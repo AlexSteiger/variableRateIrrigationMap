{
 "cells": [
  {
   "cell_type": "code",
   "execution_count": 3,
   "id": "c552e47f",
   "metadata": {},
   "outputs": [
    {
     "name": "stdout",
     "output_type": "stream",
     "text": [
      "V not found\n"
     ]
    }
   ],
   "source": [
    "#Create the layer and the store on GeoServer (Updating the layer is not possible):\n",
    "import requests\n",
    "name = ['VRI_ru_application_map','VRI_bursa_application_map','VRI_ugent_application_map']\n",
    "url = 'https://geoportal.addferti.eu/geoserver/rest/workspaces/'\n",
    "\n",
    "\n",
    "for i in range(0,1):\n",
    "    file = name[i] + '.tif'\n",
    "    datastore = file[i]\n",
    "    try:\n",
    "        with open(file,'rb') as f:\n",
    "            data = f.read()\n",
    "        \n",
    "        response = requests.put(\n",
    "            url + 'geonode/datastores/' + datastore + '/file.tif',\n",
    "            headers={'Content-type': 'application/zip'},\n",
    "            data=data,\n",
    "            verify=False,\n",
    "            auth=('admin', 'addferti')\n",
    "        )\n",
    "        print(file[i] + 'uploaded' )\n",
    "    except FileNotFoundError: \n",
    "        print(file[i] + \" not found\")\n"
   ]
  },
  {
   "cell_type": "code",
   "execution_count": null,
   "id": "c67f3cea",
   "metadata": {},
   "outputs": [],
   "source": []
  }
 ],
 "metadata": {
  "kernelspec": {
   "display_name": "Python 3 (ipykernel)",
   "language": "python",
   "name": "python3"
  },
  "language_info": {
   "codemirror_mode": {
    "name": "ipython",
    "version": 3
   },
   "file_extension": ".py",
   "mimetype": "text/x-python",
   "name": "python",
   "nbconvert_exporter": "python",
   "pygments_lexer": "ipython3",
   "version": "3.10.6"
  }
 },
 "nbformat": 4,
 "nbformat_minor": 5
}
